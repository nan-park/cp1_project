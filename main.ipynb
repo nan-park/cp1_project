{
  "nbformat": 4,
  "nbformat_minor": 0,
  "metadata": {
    "colab": {
      "provenance": [],
      "authorship_tag": "ABX9TyMcvCqIuTZYC6dlhZUYhZyN",
      "include_colab_link": true
    },
    "kernelspec": {
      "name": "python3",
      "display_name": "Python 3"
    },
    "language_info": {
      "name": "python"
    },
    "accelerator": "GPU",
    "gpuClass": "standard"
  },
  "cells": [
    {
      "cell_type": "markdown",
      "metadata": {
        "id": "view-in-github",
        "colab_type": "text"
      },
      "source": [
        "<a href=\"https://colab.research.google.com/github/nan-park/cp1_project/blob/main/main.ipynb\" target=\"_parent\"><img src=\"https://colab.research.google.com/assets/colab-badge.svg\" alt=\"Open In Colab\"/></a>"
      ]
    },
    {
      "cell_type": "markdown",
      "source": [
        "# **Import**"
      ],
      "metadata": {
        "id": "3lAvzFhkmi4r"
      }
    },
    {
      "cell_type": "code",
      "execution_count": 37,
      "metadata": {
        "id": "TZZbeiymmbbs"
      },
      "outputs": [],
      "source": [
        "import numpy as np\n",
        "import pandas as pd\n",
        "import matplotlib.pyplot as plt\n",
        "import csv"
      ]
    },
    {
      "cell_type": "code",
      "source": [
        "# (체크) 데이터 불러오는 것도 나중에 함수화 하기\n",
        "from google.colab import drive\n",
        "drive.mount('/content/drive')"
      ],
      "metadata": {
        "colab": {
          "base_uri": "https://localhost:8080/"
        },
        "id": "0ARZrNC-mq75",
        "outputId": "1e9e6130-10db-4b07-ec43-c5a27d7a56db"
      },
      "execution_count": 38,
      "outputs": [
        {
          "output_type": "stream",
          "name": "stdout",
          "text": [
            "Drive already mounted at /content/drive; to attempt to forcibly remount, call drive.mount(\"/content/drive\", force_remount=True).\n"
          ]
        }
      ]
    },
    {
      "cell_type": "code",
      "source": [
        "df = pd.read_csv('/content/drive/MyDrive/binary_dataset.csv')\n",
        "df.head()"
      ],
      "metadata": {
        "colab": {
          "base_uri": "https://localhost:8080/",
          "height": 206
        },
        "id": "2htdCuKloOKi",
        "outputId": "99151907-f3c2-4702-e3ce-4f692fec8d45"
      },
      "execution_count": 39,
      "outputs": [
        {
          "output_type": "execute_result",
          "data": {
            "text/plain": [
              "           x1         x2        x3        x4         x5         x6         x7  \\\n",
              "0  136.093750  51.691005 -0.045909 -0.271816   9.342809  38.096400   4.345438   \n",
              "1   99.367188  41.572202  1.547197  4.154106  27.555184  61.719016   2.208808   \n",
              "2  100.890625  51.890394  0.627487 -0.026498   3.883779  23.045267   6.953168   \n",
              "3  120.554688  45.549905  0.282924  0.419909   1.358696  13.079034  13.312141   \n",
              "4  121.882812  53.042675  0.200521 -0.282219   2.116221  16.580876   8.947603   \n",
              "\n",
              "           x8  y  \n",
              "0   18.673649  0  \n",
              "1    3.662680  1  \n",
              "2   52.279440  0  \n",
              "3  212.597029  1  \n",
              "4   91.011762  0  "
            ],
            "text/html": [
              "\n",
              "  <div id=\"df-17f4dab1-79e2-4092-a2b4-6accf2df898a\">\n",
              "    <div class=\"colab-df-container\">\n",
              "      <div>\n",
              "<style scoped>\n",
              "    .dataframe tbody tr th:only-of-type {\n",
              "        vertical-align: middle;\n",
              "    }\n",
              "\n",
              "    .dataframe tbody tr th {\n",
              "        vertical-align: top;\n",
              "    }\n",
              "\n",
              "    .dataframe thead th {\n",
              "        text-align: right;\n",
              "    }\n",
              "</style>\n",
              "<table border=\"1\" class=\"dataframe\">\n",
              "  <thead>\n",
              "    <tr style=\"text-align: right;\">\n",
              "      <th></th>\n",
              "      <th>x1</th>\n",
              "      <th>x2</th>\n",
              "      <th>x3</th>\n",
              "      <th>x4</th>\n",
              "      <th>x5</th>\n",
              "      <th>x6</th>\n",
              "      <th>x7</th>\n",
              "      <th>x8</th>\n",
              "      <th>y</th>\n",
              "    </tr>\n",
              "  </thead>\n",
              "  <tbody>\n",
              "    <tr>\n",
              "      <th>0</th>\n",
              "      <td>136.093750</td>\n",
              "      <td>51.691005</td>\n",
              "      <td>-0.045909</td>\n",
              "      <td>-0.271816</td>\n",
              "      <td>9.342809</td>\n",
              "      <td>38.096400</td>\n",
              "      <td>4.345438</td>\n",
              "      <td>18.673649</td>\n",
              "      <td>0</td>\n",
              "    </tr>\n",
              "    <tr>\n",
              "      <th>1</th>\n",
              "      <td>99.367188</td>\n",
              "      <td>41.572202</td>\n",
              "      <td>1.547197</td>\n",
              "      <td>4.154106</td>\n",
              "      <td>27.555184</td>\n",
              "      <td>61.719016</td>\n",
              "      <td>2.208808</td>\n",
              "      <td>3.662680</td>\n",
              "      <td>1</td>\n",
              "    </tr>\n",
              "    <tr>\n",
              "      <th>2</th>\n",
              "      <td>100.890625</td>\n",
              "      <td>51.890394</td>\n",
              "      <td>0.627487</td>\n",
              "      <td>-0.026498</td>\n",
              "      <td>3.883779</td>\n",
              "      <td>23.045267</td>\n",
              "      <td>6.953168</td>\n",
              "      <td>52.279440</td>\n",
              "      <td>0</td>\n",
              "    </tr>\n",
              "    <tr>\n",
              "      <th>3</th>\n",
              "      <td>120.554688</td>\n",
              "      <td>45.549905</td>\n",
              "      <td>0.282924</td>\n",
              "      <td>0.419909</td>\n",
              "      <td>1.358696</td>\n",
              "      <td>13.079034</td>\n",
              "      <td>13.312141</td>\n",
              "      <td>212.597029</td>\n",
              "      <td>1</td>\n",
              "    </tr>\n",
              "    <tr>\n",
              "      <th>4</th>\n",
              "      <td>121.882812</td>\n",
              "      <td>53.042675</td>\n",
              "      <td>0.200521</td>\n",
              "      <td>-0.282219</td>\n",
              "      <td>2.116221</td>\n",
              "      <td>16.580876</td>\n",
              "      <td>8.947603</td>\n",
              "      <td>91.011762</td>\n",
              "      <td>0</td>\n",
              "    </tr>\n",
              "  </tbody>\n",
              "</table>\n",
              "</div>\n",
              "      <button class=\"colab-df-convert\" onclick=\"convertToInteractive('df-17f4dab1-79e2-4092-a2b4-6accf2df898a')\"\n",
              "              title=\"Convert this dataframe to an interactive table.\"\n",
              "              style=\"display:none;\">\n",
              "        \n",
              "  <svg xmlns=\"http://www.w3.org/2000/svg\" height=\"24px\"viewBox=\"0 0 24 24\"\n",
              "       width=\"24px\">\n",
              "    <path d=\"M0 0h24v24H0V0z\" fill=\"none\"/>\n",
              "    <path d=\"M18.56 5.44l.94 2.06.94-2.06 2.06-.94-2.06-.94-.94-2.06-.94 2.06-2.06.94zm-11 1L8.5 8.5l.94-2.06 2.06-.94-2.06-.94L8.5 2.5l-.94 2.06-2.06.94zm10 10l.94 2.06.94-2.06 2.06-.94-2.06-.94-.94-2.06-.94 2.06-2.06.94z\"/><path d=\"M17.41 7.96l-1.37-1.37c-.4-.4-.92-.59-1.43-.59-.52 0-1.04.2-1.43.59L10.3 9.45l-7.72 7.72c-.78.78-.78 2.05 0 2.83L4 21.41c.39.39.9.59 1.41.59.51 0 1.02-.2 1.41-.59l7.78-7.78 2.81-2.81c.8-.78.8-2.07 0-2.86zM5.41 20L4 18.59l7.72-7.72 1.47 1.35L5.41 20z\"/>\n",
              "  </svg>\n",
              "      </button>\n",
              "      \n",
              "  <style>\n",
              "    .colab-df-container {\n",
              "      display:flex;\n",
              "      flex-wrap:wrap;\n",
              "      gap: 12px;\n",
              "    }\n",
              "\n",
              "    .colab-df-convert {\n",
              "      background-color: #E8F0FE;\n",
              "      border: none;\n",
              "      border-radius: 50%;\n",
              "      cursor: pointer;\n",
              "      display: none;\n",
              "      fill: #1967D2;\n",
              "      height: 32px;\n",
              "      padding: 0 0 0 0;\n",
              "      width: 32px;\n",
              "    }\n",
              "\n",
              "    .colab-df-convert:hover {\n",
              "      background-color: #E2EBFA;\n",
              "      box-shadow: 0px 1px 2px rgba(60, 64, 67, 0.3), 0px 1px 3px 1px rgba(60, 64, 67, 0.15);\n",
              "      fill: #174EA6;\n",
              "    }\n",
              "\n",
              "    [theme=dark] .colab-df-convert {\n",
              "      background-color: #3B4455;\n",
              "      fill: #D2E3FC;\n",
              "    }\n",
              "\n",
              "    [theme=dark] .colab-df-convert:hover {\n",
              "      background-color: #434B5C;\n",
              "      box-shadow: 0px 1px 3px 1px rgba(0, 0, 0, 0.15);\n",
              "      filter: drop-shadow(0px 1px 2px rgba(0, 0, 0, 0.3));\n",
              "      fill: #FFFFFF;\n",
              "    }\n",
              "  </style>\n",
              "\n",
              "      <script>\n",
              "        const buttonEl =\n",
              "          document.querySelector('#df-17f4dab1-79e2-4092-a2b4-6accf2df898a button.colab-df-convert');\n",
              "        buttonEl.style.display =\n",
              "          google.colab.kernel.accessAllowed ? 'block' : 'none';\n",
              "\n",
              "        async function convertToInteractive(key) {\n",
              "          const element = document.querySelector('#df-17f4dab1-79e2-4092-a2b4-6accf2df898a');\n",
              "          const dataTable =\n",
              "            await google.colab.kernel.invokeFunction('convertToInteractive',\n",
              "                                                     [key], {});\n",
              "          if (!dataTable) return;\n",
              "\n",
              "          const docLinkHtml = 'Like what you see? Visit the ' +\n",
              "            '<a target=\"_blank\" href=https://colab.research.google.com/notebooks/data_table.ipynb>data table notebook</a>'\n",
              "            + ' to learn more about interactive tables.';\n",
              "          element.innerHTML = '';\n",
              "          dataTable['output_type'] = 'display_data';\n",
              "          await google.colab.output.renderOutput(dataTable, element);\n",
              "          const docLink = document.createElement('div');\n",
              "          docLink.innerHTML = docLinkHtml;\n",
              "          element.appendChild(docLink);\n",
              "        }\n",
              "      </script>\n",
              "    </div>\n",
              "  </div>\n",
              "  "
            ]
          },
          "metadata": {},
          "execution_count": 39
        }
      ]
    },
    {
      "cell_type": "code",
      "source": [
        "# 학습/테스트 데이터 뒤섞기\n",
        "def df_shuffle(df):\n",
        "  return df.sample(frac=1).reset_index(drop=True)\n",
        "\n",
        "# 특성, 타겟 나누기\n",
        "def divide_xy(df):\n",
        "  target = 'y'\n",
        "  features = list(df.columns)\n",
        "  features.remove(target)\n",
        "\n",
        "  X = df[features]\n",
        "  y = df[target]\n",
        "  return X, y\n",
        "\n",
        "# 학습/테스트 데이터 분리하기\n",
        "def train_test_divide(X, y, test_size=0.2):  # X: pandas dataframe, y: pandas series\n",
        "  length = len(y)\n",
        "  test_index = int(length * test_size)\n",
        "\n",
        "  X_test = X[:test_index]\n",
        "  y_test = y[:test_index]\n",
        "\n",
        "  X_train = X[test_index:]  \n",
        "  y_train = y[test_index:]\n",
        "\n",
        "  return X_train, y_train, X_test, y_test"
      ],
      "metadata": {
        "id": "qxfruCayo0eh"
      },
      "execution_count": 40,
      "outputs": []
    },
    {
      "cell_type": "code",
      "source": [
        "def train_test_split(df, shuffle=True, test_size=0.2):\n",
        "  if shuffle:\n",
        "    df = df_shuffle(df)\n",
        "  \n",
        "  X, y = divide_xy(df)\n",
        "  return train_test_divide(X, y, test_size=test_size)"
      ],
      "metadata": {
        "id": "EndvpVrA-s4M"
      },
      "execution_count": 41,
      "outputs": []
    },
    {
      "cell_type": "code",
      "source": [
        "X_train, y_train, X_test, y_test = train_test_split(df)"
      ],
      "metadata": {
        "id": "kXCVFqVP_QQd"
      },
      "execution_count": 42,
      "outputs": []
    },
    {
      "cell_type": "code",
      "source": [
        "# 미니배치 배정 -> 미니배치 개수를 기준으로 가중치 개수 정해야 함\n",
        "# 미니배치를 통해 결국에 GPU의 병렬처리를 활용해야 함\n",
        "# 가중치, 편향 값 랜덤 지정(Xavier 초기화 참고)\n",
        "# 인공신경망 층 클래스 정의 필요한가?(가중치, 편향 값 존재) -> W, b\n",
        "\n",
        "\n"
      ],
      "metadata": {
        "id": "CMhbx0PGAFHQ"
      },
      "execution_count": 43,
      "outputs": []
    },
    {
      "cell_type": "code",
      "source": [
        "# 미니배치 설정. 이게 그대로 인공 신경망에 들어감\n",
        "def set_mini_batch(X, y): # train, test 들어올 예정\n",
        "  # 4개씩 미니배치 설정. 나머지는 버리기\n",
        "  length = len(y)\n",
        "  num = length // 4 # 미니배치 개수\n",
        "  X_batch_list = []\n",
        "  y_batch_list = []\n",
        "  for i in range(num):\n",
        "    i = i * 4\n",
        "    # 비복원 추출. 데이터가 적기 때문에 겹치지 않는 게 나을 듯.\n",
        "    X_batch_list.append(X[i:i+4]) # index: 0~4, 4~8, 8~12, ...\n",
        "    y_batch_list.append(y[i:i+4])\n",
        "  return X_batch_list, y_batch_list"
      ],
      "metadata": {
        "id": "0NhRSsqyIoaS"
      },
      "execution_count": 44,
      "outputs": []
    },
    {
      "cell_type": "code",
      "source": [],
      "metadata": {
        "id": "WhDlduaqLzd_"
      },
      "execution_count": 44,
      "outputs": []
    },
    {
      "cell_type": "code",
      "source": [
        "# 층의 노드 개수(n), 미니배치 하나 개수(4개) -> 가중치 4xn\n",
        "\n",
        "# Xavier 초기화(활성화함수가 시그모이드일 때 잘 동작), 편향 포함한 후에 분리하기\n",
        "# 이전 층 노드 개수가 n, 현재 층 노드 개수 m일 때, 표준편차가 2/루트(n+m)인 정규분포로 초기화\n",
        "\n",
        "def initialize_parameter(n, m):\n",
        "  init = np.random.normal(0, 2/((n+m)**2), (n, m+1))\n",
        "  W = init[:, :-1]\n",
        "  b = init[:, -1]\n",
        "  return W, b\n",
        "\n",
        "initialize_parameter(4, 5)"
      ],
      "metadata": {
        "colab": {
          "base_uri": "https://localhost:8080/"
        },
        "id": "FVqeboILdV0B",
        "outputId": "af69641f-9241-4037-e369-803e7ffcbc7b"
      },
      "execution_count": 45,
      "outputs": [
        {
          "output_type": "execute_result",
          "data": {
            "text/plain": [
              "(array([[ 0.02075047, -0.01115873, -0.03252529,  0.00264315, -0.01789865],\n",
              "        [ 0.00179248, -0.02537062, -0.00835429,  0.02243532, -0.0383387 ],\n",
              "        [ 0.00469404,  0.00409837, -0.00784763, -0.02596775, -0.00595532],\n",
              "        [-0.04778234, -0.01645449,  0.01619044,  0.03097993, -0.03109377]]),\n",
              " array([ 0.00263237, -0.02540943, -0.0264644 ,  0.03114436]))"
            ]
          },
          "metadata": {},
          "execution_count": 45
        }
      ]
    },
    {
      "cell_type": "code",
      "source": [
        "class Layer():  # 은닉층, 출력층\n",
        "  def __init__(self, node_num, activation='linear'):\n",
        "    self.node_num = node_num\n",
        "    self.activation = activation\n",
        "    # self.W, self.b = initialize_parameter(self.pro_node_num, self.node_num)  # (체크)이전 층 정보를 어떻게 가져오지?\n",
        "    # (체크) activation, input, W, b, next\n",
        "    self.prev = None\n",
        "    self.next = None\n",
        "\n",
        "class Dense(Layer):\n",
        "  def __init__(self, node_num, activation='linear'):\n",
        "    super().__init__(self, node_num)\n",
        "  \n",
        "  def set_weights(self):\n",
        "    self.W, self.b = initialize_parameter(self.pro_node_num, self.node_num)\n",
        "\n",
        "  # def output(self):\n",
        "  #   # self.prev.output\n",
        "  #   return np.dot(self.X, self.W) + self.b\n",
        "\n",
        "class Input(Layer): # prev가 없음\n",
        "  def __init__(self, node_num, activation='linear'):\n",
        "    super().__init__(self, node_num)\n",
        "\n",
        "  # def output(self):\n",
        "  #   return X"
      ],
      "metadata": {
        "id": "6OZ0YaOUka_n"
      },
      "execution_count": 51,
      "outputs": []
    },
    {
      "cell_type": "code",
      "source": [
        "# Sequential([])에 layer 쌓고 서로 연결되도록 하기. 가중치 초기화 가능해야 함\n",
        "class Sequential():\n",
        "  def __init__(self, layer_list):\n",
        "    if len(layer_list)==0:\n",
        "      self.head = None\n",
        "      self.tail = None\n",
        "    elif len(layer_list)==1:\n",
        "      self.head = layer_list[0]\n",
        "      self.tail = layer_list[0]\n",
        "    else:\n",
        "      self.head = layer_list[0]\n",
        "      iterator = self.head\n",
        "      for layer in layer_list[1:-1]:\n",
        "        layer.prev= iterator\n",
        "        iterator.next = layer\n",
        "        iterator = layer\n",
        "      iterator.next = layer_list[-1]\n",
        "      self.tail = layer_list[-1]\n",
        "      self.tail.prev = iterator\n",
        "  \n"
      ],
      "metadata": {
        "id": "jVSnp3_GoODD"
      },
      "execution_count": 52,
      "outputs": []
    },
    {
      "cell_type": "code",
      "source": [
        "model = Sequential([Input(4), Dense(16), Dense(32), Dense(2, activation='sigmoid')])\n",
        "model.tail.node_num"
      ],
      "metadata": {
        "colab": {
          "base_uri": "https://localhost:8080/"
        },
        "id": "Tcm7gVvywkkb",
        "outputId": "ab22458d-2f22-4c9f-9682-7da786d6eb8d"
      },
      "execution_count": 58,
      "outputs": [
        {
          "output_type": "execute_result",
          "data": {
            "text/plain": [
              "<__main__.Dense at 0x7ff44e493310>"
            ]
          },
          "metadata": {},
          "execution_count": 58
        }
      ]
    }
  ]
}