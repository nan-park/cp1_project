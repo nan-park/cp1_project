{
  "nbformat": 4,
  "nbformat_minor": 0,
  "metadata": {
    "colab": {
      "provenance": [],
      "authorship_tag": "ABX9TyMG7P8AP3HXP7ed6vfXmnQc",
      "include_colab_link": true
    },
    "kernelspec": {
      "name": "python3",
      "display_name": "Python 3"
    },
    "language_info": {
      "name": "python"
    },
    "gpuClass": "standard"
  },
  "cells": [
    {
      "cell_type": "markdown",
      "metadata": {
        "id": "view-in-github",
        "colab_type": "text"
      },
      "source": [
        "<a href=\"https://colab.research.google.com/github/nan-park/cp1_project/blob/main/main.ipynb\" target=\"_parent\"><img src=\"https://colab.research.google.com/assets/colab-badge.svg\" alt=\"Open In Colab\"/></a>"
      ]
    },
    {
      "cell_type": "markdown",
      "source": [
        "# **0과 1을 분류하는 인공신경망 프로그래밍**"
      ],
      "metadata": {
        "id": "2K4TxCWwuRNn"
      }
    },
    {
      "cell_type": "markdown",
      "source": [
        "# **Import**"
      ],
      "metadata": {
        "id": "3lAvzFhkmi4r"
      }
    },
    {
      "cell_type": "code",
      "execution_count": 26,
      "metadata": {
        "id": "TZZbeiymmbbs"
      },
      "outputs": [],
      "source": [
        "import numpy as np\n",
        "import pandas as pd\n",
        "import matplotlib.pyplot as plt\n",
        "import csv"
      ]
    },
    {
      "cell_type": "markdown",
      "source": [
        "# **Data Load**"
      ],
      "metadata": {
        "id": "hTwHDU2wuVyu"
      }
    },
    {
      "cell_type": "code",
      "source": [
        "from google.colab import drive  # google drive mount\n",
        "drive.mount('/content/drive')"
      ],
      "metadata": {
        "colab": {
          "base_uri": "https://localhost:8080/"
        },
        "id": "eHH52vxqSr2l",
        "outputId": "14747bf9-52a4-4433-d692-776b049ffbb0"
      },
      "execution_count": 27,
      "outputs": [
        {
          "output_type": "stream",
          "name": "stdout",
          "text": [
            "Drive already mounted at /content/drive; to attempt to forcibly remount, call drive.mount(\"/content/drive\", force_remount=True).\n"
          ]
        }
      ]
    },
    {
      "cell_type": "code",
      "source": [
        "# 데이터 불러오기\n",
        "def data_load():\n",
        "  df = pd.read_csv('/content/drive/MyDrive/binary_dataset.csv')\n",
        "  return df\n",
        "df = data_load()"
      ],
      "metadata": {
        "id": "0ARZrNC-mq75"
      },
      "execution_count": 28,
      "outputs": []
    },
    {
      "cell_type": "code",
      "source": [
        "df.head()"
      ],
      "metadata": {
        "id": "sh4KEQQz0nFl",
        "outputId": "cf0b4290-a168-4b28-b484-a8b2a6ddaf25",
        "colab": {
          "base_uri": "https://localhost:8080/",
          "height": 206
        }
      },
      "execution_count": 29,
      "outputs": [
        {
          "output_type": "execute_result",
          "data": {
            "text/plain": [
              "           x1         x2        x3        x4         x5         x6         x7  \\\n",
              "0  136.093750  51.691005 -0.045909 -0.271816   9.342809  38.096400   4.345438   \n",
              "1   99.367188  41.572202  1.547197  4.154106  27.555184  61.719016   2.208808   \n",
              "2  100.890625  51.890394  0.627487 -0.026498   3.883779  23.045267   6.953168   \n",
              "3  120.554688  45.549905  0.282924  0.419909   1.358696  13.079034  13.312141   \n",
              "4  121.882812  53.042675  0.200521 -0.282219   2.116221  16.580876   8.947603   \n",
              "\n",
              "           x8  y  \n",
              "0   18.673649  0  \n",
              "1    3.662680  1  \n",
              "2   52.279440  0  \n",
              "3  212.597029  1  \n",
              "4   91.011762  0  "
            ],
            "text/html": [
              "\n",
              "  <div id=\"df-66113510-fd99-4c0e-8934-d7ecdf898a58\">\n",
              "    <div class=\"colab-df-container\">\n",
              "      <div>\n",
              "<style scoped>\n",
              "    .dataframe tbody tr th:only-of-type {\n",
              "        vertical-align: middle;\n",
              "    }\n",
              "\n",
              "    .dataframe tbody tr th {\n",
              "        vertical-align: top;\n",
              "    }\n",
              "\n",
              "    .dataframe thead th {\n",
              "        text-align: right;\n",
              "    }\n",
              "</style>\n",
              "<table border=\"1\" class=\"dataframe\">\n",
              "  <thead>\n",
              "    <tr style=\"text-align: right;\">\n",
              "      <th></th>\n",
              "      <th>x1</th>\n",
              "      <th>x2</th>\n",
              "      <th>x3</th>\n",
              "      <th>x4</th>\n",
              "      <th>x5</th>\n",
              "      <th>x6</th>\n",
              "      <th>x7</th>\n",
              "      <th>x8</th>\n",
              "      <th>y</th>\n",
              "    </tr>\n",
              "  </thead>\n",
              "  <tbody>\n",
              "    <tr>\n",
              "      <th>0</th>\n",
              "      <td>136.093750</td>\n",
              "      <td>51.691005</td>\n",
              "      <td>-0.045909</td>\n",
              "      <td>-0.271816</td>\n",
              "      <td>9.342809</td>\n",
              "      <td>38.096400</td>\n",
              "      <td>4.345438</td>\n",
              "      <td>18.673649</td>\n",
              "      <td>0</td>\n",
              "    </tr>\n",
              "    <tr>\n",
              "      <th>1</th>\n",
              "      <td>99.367188</td>\n",
              "      <td>41.572202</td>\n",
              "      <td>1.547197</td>\n",
              "      <td>4.154106</td>\n",
              "      <td>27.555184</td>\n",
              "      <td>61.719016</td>\n",
              "      <td>2.208808</td>\n",
              "      <td>3.662680</td>\n",
              "      <td>1</td>\n",
              "    </tr>\n",
              "    <tr>\n",
              "      <th>2</th>\n",
              "      <td>100.890625</td>\n",
              "      <td>51.890394</td>\n",
              "      <td>0.627487</td>\n",
              "      <td>-0.026498</td>\n",
              "      <td>3.883779</td>\n",
              "      <td>23.045267</td>\n",
              "      <td>6.953168</td>\n",
              "      <td>52.279440</td>\n",
              "      <td>0</td>\n",
              "    </tr>\n",
              "    <tr>\n",
              "      <th>3</th>\n",
              "      <td>120.554688</td>\n",
              "      <td>45.549905</td>\n",
              "      <td>0.282924</td>\n",
              "      <td>0.419909</td>\n",
              "      <td>1.358696</td>\n",
              "      <td>13.079034</td>\n",
              "      <td>13.312141</td>\n",
              "      <td>212.597029</td>\n",
              "      <td>1</td>\n",
              "    </tr>\n",
              "    <tr>\n",
              "      <th>4</th>\n",
              "      <td>121.882812</td>\n",
              "      <td>53.042675</td>\n",
              "      <td>0.200521</td>\n",
              "      <td>-0.282219</td>\n",
              "      <td>2.116221</td>\n",
              "      <td>16.580876</td>\n",
              "      <td>8.947603</td>\n",
              "      <td>91.011762</td>\n",
              "      <td>0</td>\n",
              "    </tr>\n",
              "  </tbody>\n",
              "</table>\n",
              "</div>\n",
              "      <button class=\"colab-df-convert\" onclick=\"convertToInteractive('df-66113510-fd99-4c0e-8934-d7ecdf898a58')\"\n",
              "              title=\"Convert this dataframe to an interactive table.\"\n",
              "              style=\"display:none;\">\n",
              "        \n",
              "  <svg xmlns=\"http://www.w3.org/2000/svg\" height=\"24px\"viewBox=\"0 0 24 24\"\n",
              "       width=\"24px\">\n",
              "    <path d=\"M0 0h24v24H0V0z\" fill=\"none\"/>\n",
              "    <path d=\"M18.56 5.44l.94 2.06.94-2.06 2.06-.94-2.06-.94-.94-2.06-.94 2.06-2.06.94zm-11 1L8.5 8.5l.94-2.06 2.06-.94-2.06-.94L8.5 2.5l-.94 2.06-2.06.94zm10 10l.94 2.06.94-2.06 2.06-.94-2.06-.94-.94-2.06-.94 2.06-2.06.94z\"/><path d=\"M17.41 7.96l-1.37-1.37c-.4-.4-.92-.59-1.43-.59-.52 0-1.04.2-1.43.59L10.3 9.45l-7.72 7.72c-.78.78-.78 2.05 0 2.83L4 21.41c.39.39.9.59 1.41.59.51 0 1.02-.2 1.41-.59l7.78-7.78 2.81-2.81c.8-.78.8-2.07 0-2.86zM5.41 20L4 18.59l7.72-7.72 1.47 1.35L5.41 20z\"/>\n",
              "  </svg>\n",
              "      </button>\n",
              "      \n",
              "  <style>\n",
              "    .colab-df-container {\n",
              "      display:flex;\n",
              "      flex-wrap:wrap;\n",
              "      gap: 12px;\n",
              "    }\n",
              "\n",
              "    .colab-df-convert {\n",
              "      background-color: #E8F0FE;\n",
              "      border: none;\n",
              "      border-radius: 50%;\n",
              "      cursor: pointer;\n",
              "      display: none;\n",
              "      fill: #1967D2;\n",
              "      height: 32px;\n",
              "      padding: 0 0 0 0;\n",
              "      width: 32px;\n",
              "    }\n",
              "\n",
              "    .colab-df-convert:hover {\n",
              "      background-color: #E2EBFA;\n",
              "      box-shadow: 0px 1px 2px rgba(60, 64, 67, 0.3), 0px 1px 3px 1px rgba(60, 64, 67, 0.15);\n",
              "      fill: #174EA6;\n",
              "    }\n",
              "\n",
              "    [theme=dark] .colab-df-convert {\n",
              "      background-color: #3B4455;\n",
              "      fill: #D2E3FC;\n",
              "    }\n",
              "\n",
              "    [theme=dark] .colab-df-convert:hover {\n",
              "      background-color: #434B5C;\n",
              "      box-shadow: 0px 1px 3px 1px rgba(0, 0, 0, 0.15);\n",
              "      filter: drop-shadow(0px 1px 2px rgba(0, 0, 0, 0.3));\n",
              "      fill: #FFFFFF;\n",
              "    }\n",
              "  </style>\n",
              "\n",
              "      <script>\n",
              "        const buttonEl =\n",
              "          document.querySelector('#df-66113510-fd99-4c0e-8934-d7ecdf898a58 button.colab-df-convert');\n",
              "        buttonEl.style.display =\n",
              "          google.colab.kernel.accessAllowed ? 'block' : 'none';\n",
              "\n",
              "        async function convertToInteractive(key) {\n",
              "          const element = document.querySelector('#df-66113510-fd99-4c0e-8934-d7ecdf898a58');\n",
              "          const dataTable =\n",
              "            await google.colab.kernel.invokeFunction('convertToInteractive',\n",
              "                                                     [key], {});\n",
              "          if (!dataTable) return;\n",
              "\n",
              "          const docLinkHtml = 'Like what you see? Visit the ' +\n",
              "            '<a target=\"_blank\" href=https://colab.research.google.com/notebooks/data_table.ipynb>data table notebook</a>'\n",
              "            + ' to learn more about interactive tables.';\n",
              "          element.innerHTML = '';\n",
              "          dataTable['output_type'] = 'display_data';\n",
              "          await google.colab.output.renderOutput(dataTable, element);\n",
              "          const docLink = document.createElement('div');\n",
              "          docLink.innerHTML = docLinkHtml;\n",
              "          element.appendChild(docLink);\n",
              "        }\n",
              "      </script>\n",
              "    </div>\n",
              "  </div>\n",
              "  "
            ]
          },
          "metadata": {},
          "execution_count": 29
        }
      ]
    },
    {
      "cell_type": "markdown",
      "source": [
        "# **Data Split**"
      ],
      "metadata": {
        "id": "SxW1RzSuudd2"
      }
    },
    {
      "cell_type": "code",
      "source": [
        "def minMaxScaler(X: pd.DataFrame, x_max, x_min):\n",
        "  X = X.copy()\n",
        "  for feature in x_max.keys():\n",
        "    X[feature] = (X[feature] - x_min[feature]) / (x_max[feature] - x_min[feature])\n",
        "  return X\n",
        "\n",
        "def normalization(X_train, X_test):\n",
        "  features = list(X_train.columns)\n",
        "  x_max = {}\n",
        "  x_min = {}\n",
        "  for feature in features:\n",
        "    x_max[feature] = X_train[feature].max()\n",
        "    x_min[feature] = X_train[feature].min()\n",
        "  X_train = minMaxScaler(X_train, x_max, x_min)\n",
        "  X_test = minMaxScaler(X_test, x_max, x_min)\n",
        "  return X_train, X_test"
      ],
      "metadata": {
        "id": "GtXGFOScB4_S"
      },
      "execution_count": 30,
      "outputs": []
    },
    {
      "cell_type": "code",
      "source": [
        "# 학습/테스트 데이터 뒤섞기\n",
        "def df_shuffle(df):\n",
        "  return df.sample(frac=1).reset_index(drop=True)\n",
        "\n",
        "# 특성, 타겟 나누기\n",
        "def divide_xy(df):\n",
        "  target = 'y'\n",
        "  features = list(df.columns)\n",
        "  features.remove(target)\n",
        "\n",
        "  X = df[features]\n",
        "  y = np.array(df[target]).reshape(-1, 1)\n",
        "  return X, y\n",
        "\n",
        "# 학습/테스트 데이터 분리하기\n",
        "def train_test_divide(X, y, test_size=0.2):  # X: pandas dataframe, y: numpy array\n",
        "  length = len(y)\n",
        "  test_index = int(length * test_size)\n",
        "\n",
        "  X_test = X[:test_index]\n",
        "  y_test = y[:test_index]\n",
        "\n",
        "  X_train = X[test_index:]  \n",
        "  y_train = y[test_index:]\n",
        "  \n",
        "  # train 데이터에 맞춰서 normalization(minMaxScaler 이용)\n",
        "  X_train, X_test = normalization(X_train, X_test)\n",
        "\n",
        "  return X_train, y_train, X_test, y_test"
      ],
      "metadata": {
        "id": "qxfruCayo0eh"
      },
      "execution_count": 31,
      "outputs": []
    },
    {
      "cell_type": "code",
      "source": [
        "# 위의 함수 통합\n",
        "def train_test_split(df, shuffle=True, test_size=0.2):\n",
        "  if shuffle:\n",
        "    df = df_shuffle(df)\n",
        "  \n",
        "  X, y = divide_xy(df)\n",
        "  return train_test_divide(X, y, test_size=test_size)\n",
        "\n",
        "# X_train, y_train, X_test, y_test = train_test_split(df)"
      ],
      "metadata": {
        "id": "EndvpVrA-s4M"
      },
      "execution_count": 32,
      "outputs": []
    },
    {
      "cell_type": "code",
      "source": [
        "# 미니배치 설정\n",
        "def split_mini_batch(X, y, n): # train, test 들어올 예정\n",
        "  # 4개씩 미니배치 설정. 나머지는 버리기\n",
        "  length = len(y)\n",
        "  num = length // n # 미니배치 개수\n",
        "  X_batch_list = []\n",
        "  y_batch_list = []\n",
        "  for i in range(num):\n",
        "    i = i * n\n",
        "    # 비복원 추출. 데이터가 적기 때문에 겹치지 않는 게 나을 듯.\n",
        "    X_batch_list.append(X[i:i+n]) # index: 0~4, 4~8, 8~12, ...\n",
        "    y_batch_list.append(y[i:i+n])\n",
        "  return X_batch_list, y_batch_list\n",
        "\n",
        "def train_test_mini_batch(X_train, y_train, X_test, y_test, n):\n",
        "  train_X_batch_list, train_y_batch_list = split_mini_batch(X_train, y_train, n) # train 데이터\n",
        "  test_X_batch_list, test_y_batch_list = split_mini_batch(X_test, y_test, n) # test 데이터\n",
        "  return train_X_batch_list, train_y_batch_list, test_X_batch_list, test_y_batch_list"
      ],
      "metadata": {
        "id": "0NhRSsqyIoaS"
      },
      "execution_count": 33,
      "outputs": []
    },
    {
      "cell_type": "markdown",
      "source": [
        "# **Weight and Bias Initialization**"
      ],
      "metadata": {
        "id": "fLPARQmRugzE"
      }
    },
    {
      "cell_type": "code",
      "source": [
        "# Xavier 초기화(활성화함수가 시그모이드일 때 잘 동작), 편향 포함한 후에 분리하기\n",
        "# 이전 층 노드 개수가 n, 현재 층 노드 개수 m일 때, 표준편차가 2/루트(n+m)인 정규분포로 초기화\n",
        "def initialize_parameter(n: int, m: int):\n",
        "  init = np.random.normal(0, 2/((n+m)**2), (n+1, m))\n",
        "  W = init[:-1, :]\n",
        "  b = init[-1, :]\n",
        "  return W, b\n",
        "\n",
        "# initialize_parameter(4, 5)"
      ],
      "metadata": {
        "id": "FVqeboILdV0B"
      },
      "execution_count": 34,
      "outputs": []
    },
    {
      "cell_type": "code",
      "source": [
        "def sigmoid(x):\n",
        "    return 1 / (1 +np.exp(-x))\n",
        "\n",
        "def classification(x):\n",
        "  if x < 0.5:\n",
        "    return 0\n",
        "  else:\n",
        "    return 1"
      ],
      "metadata": {
        "id": "5JHGJwwgBCLL"
      },
      "execution_count": 35,
      "outputs": []
    },
    {
      "cell_type": "markdown",
      "source": [
        "# **Sequential Layers**"
      ],
      "metadata": {
        "id": "jwpSoZNzuvrN"
      }
    },
    {
      "cell_type": "code",
      "source": [
        "class Layer():  # 입력층, 은닉층, 출력층\n",
        "  def __init__(self, node_num: int, activation='linear'):\n",
        "    self.node_num = node_num  # 레이어의 노드 개수\n",
        "    self.activation = activation  # 활성화 함수\n",
        "    self.prev = None  # 이전 층\n",
        "    self.next = None  # 다음 층\n",
        "\n",
        "  def set_weights(self):  # 가중치 행렬, 편향 초기화\n",
        "    if self.prev is not None:\n",
        "      prev_node_num = self.prev.node_num\n",
        "      self.W, self.b = initialize_parameter(prev_node_num, self.node_num)\n",
        "  \n",
        "  # input 행렬 X\n",
        "  @property\n",
        "  def X(self):\n",
        "    return self._X\n",
        "  @X.setter\n",
        "  def X(self, value):\n",
        "    self._X = value\n",
        "\n",
        "class Dense(Layer): # 은닉층, 출력층\n",
        "  def __init__(self, node_num, activation='linear'):\n",
        "    # super().__init__(self, node_num)\n",
        "    self.node_num = node_num\n",
        "    self.activation = activation\n",
        "    self.prev = None\n",
        "    self.next = None\n",
        "  \n",
        "  def output(self):\n",
        "    answer = np.dot(self._X, self.W) + self.b\n",
        "    if self.activation == 'linear': # 활성화함수 없음(선형함수)\n",
        "      return answer\n",
        "    elif self.activation == 'sigmoid': # 활성화함수 : 시그모이드\n",
        "      answer = sigmoid(answer)\n",
        "      return answer\n",
        "\n",
        "class Input(Layer): # 입력층\n",
        "  def __init__(self, node_num, activation='linear'):\n",
        "    self.node_num = node_num\n",
        "    self.activation = activation\n",
        "    self.prev = None\n",
        "    self.next = None\n",
        "  # 입력층의 경우 input을 그대로 출력한다\n",
        "  def output(self): \n",
        "    return self._X"
      ],
      "metadata": {
        "id": "6OZ0YaOUka_n"
      },
      "execution_count": 36,
      "outputs": []
    },
    {
      "cell_type": "code",
      "source": [
        "# Sequential([])에 layer 쌓고 서로 연결되도록 하기. 가중치 초기화 가능해야 함\n",
        "class Sequential():\n",
        "  def __init__(self, layer_list: list): # Layer들을 서로 링크드리스트로 연결. 처음과 끝 지정.\n",
        "    # layer가 없는 경우\n",
        "    if len(layer_list)==0:\n",
        "      self.head = None\n",
        "      self.tail = None\n",
        "    # layer가 1개인 경우\n",
        "    elif len(layer_list)==1:\n",
        "      self.head = layer_list[0]\n",
        "      self.tail = layer_list[0]\n",
        "    else: # layer가 2개 이상인 경우\n",
        "      self.head = layer_list[0]\n",
        "      iterator = self.head\n",
        "      for layer in layer_list[1:-1]:\n",
        "        layer.prev= iterator\n",
        "        iterator.next = layer\n",
        "        iterator = layer\n",
        "      iterator.next = layer_list[-1]\n",
        "      self.tail = layer_list[-1]\n",
        "      self.tail.prev = iterator\n",
        "\n",
        "    # 가중치, 편향 초기화\n",
        "    iterator = self.head\n",
        "    while iterator:\n",
        "      iterator.set_weights()\n",
        "      iterator = iterator.next\n",
        "\n",
        "  # input 행렬 X\n",
        "  @property\n",
        "  def input(self):\n",
        "    return self._input\n",
        "  @input.setter\n",
        "  def input(self, value):\n",
        "    self._input = value\n",
        "    self.head.X = value # 처음 층 input에도 들어가도록 하기\n",
        "\n",
        "  def output(self):\n",
        "    iterator = self.head  # Input\n",
        "    while iterator.next:\n",
        "      iterator.next.X = iterator.output()\n",
        "      iterator = iterator.next\n",
        "    return iterator.output()\n",
        "    "
      ],
      "metadata": {
        "id": "jVSnp3_GoODD"
      },
      "execution_count": 37,
      "outputs": []
    },
    {
      "cell_type": "code",
      "source": [
        "# model = Sequential([Input(8), Dense(16), Dense(32), Dense(1, activation='sigmoid')])"
      ],
      "metadata": {
        "id": "3QmP3JdVbBzY"
      },
      "execution_count": 38,
      "outputs": []
    },
    {
      "cell_type": "markdown",
      "source": [
        "# **Backpropagation**"
      ],
      "metadata": {
        "id": "MeJUxwe20uh9"
      }
    },
    {
      "cell_type": "code",
      "source": [
        "# 역전파 학습\n",
        "def back_prop(model: Sequential, y_pred_prob, y_batch, learning_rate=1):\n",
        "    def sigmoid_prime(y): # sigmoid의 도함수\n",
        "        return y * (1 - y)\n",
        "    def cross_entropy_prime(y_pred_prob, y_batch):  # binary cross entropy의 도함수\n",
        "        return y_pred_prob - y_batch\n",
        "\n",
        "    # 출력층부터 시작해서 반대방향으로\n",
        "    iterator = model.tail\n",
        "    while iterator != model.head:\n",
        "        # dError/dY\n",
        "        if iterator == model.tail:  # 출력층이면\n",
        "            error = cross_entropy_prime(y_pred_prob, y_batch) # 손실함수의 도함수\n",
        "        else: # 출력층을 지난 후\n",
        "            error = np.dot(delta, iterator.next.W.T)\n",
        "        # dY/dy\n",
        "        if iterator.activation == 'sigmoid':  # 활성화함수가 sigmoid면\n",
        "            delta = error * sigmoid_prime(y_pred_prob)\n",
        "        elif iterator.activation == 'linear': # 활성화함수가 없으면(linear)\n",
        "            delta = error\n",
        "        # dy/dw\n",
        "        delta_mean = np.mean(delta) # 편향 업데이트를 위한 delta\n",
        "        iterator.b -= learning_rate * delta_mean  # 편향 업데이트\n",
        "        iterator.W -= learning_rate * np.dot(iterator.X.T, delta) # 가중치 업데이트\n",
        "        iterator = iterator.prev  # 이전 층으로 이동"
      ],
      "metadata": {
        "id": "6kzhqeCPCXrz"
      },
      "execution_count": 39,
      "outputs": []
    },
    {
      "cell_type": "markdown",
      "source": [
        "# **Predict and Evaluate**"
      ],
      "metadata": {
        "id": "aCOSJWptu1im"
      }
    },
    {
      "cell_type": "code",
      "source": [
        "# 정답 예측\n",
        "def predict(X_batch, y_batch, model: Sequential):\n",
        "    model.input = X_batch # Sequential의 입력층에 X 입력\n",
        "    y_pred_prob = model.output()  # 순전파 과정을 통해 마지막 층까지 이동 후 결과 출력\n",
        "    return y_pred_prob  # 예측 확률\n",
        "\n",
        "# 미니배치 단위로 evaluate(정확도, 손실함수 출력)\n",
        "def evaluate_mini_batch(X_batch, y_batch, model, i):\n",
        "    def accuracy(y_pred, y_batch):  # 정확도\n",
        "        return sum(y_pred == y_batch)[0] / y_pred.shape[0]\n",
        "\n",
        "    def cross_entropy(y_pred_prob, y_batch):    # 손실함수\n",
        "        delta = 1e-7\n",
        "        return -np.mean(y_batch * np.log(y_pred_prob + delta) + (1 - y_batch) * np.log(1 - y_pred_prob + delta))   # (체크)\n",
        "    \n",
        "    # y_pred_prob(예측 확률)로 0과 1로 분류\n",
        "    def classification(x):  # x: 0~1 사이의 실수\n",
        "        return 0 if x < 0.5 else 1\n",
        "        # return round(x, 0)\n",
        "\n",
        "    classify = np.vectorize(classification)\n",
        "    y_pred_prob = predict(X_batch, y_batch, model)  # 정답 예측\n",
        "    y_pred = classify(y_pred_prob)  # 0과 1로 분류\n",
        "    accuracy = accuracy(y_pred, y_batch)  # 정확도 측정\n",
        "    cross_entropy = cross_entropy(y_pred_prob, y_batch) # 손실함수(binary cross entropy) 측정\n",
        "    print(f\"[Mini-Batch {i+1}] Loss = {round(cross_entropy, 3)}, Accuracy = {round(accuracy, 3)}\")\n",
        "    back_prop(model, y_pred_prob, y_batch)\n",
        "    return accuracy, cross_entropy"
      ],
      "metadata": {
        "id": "CK9B-SGXGJGm"
      },
      "execution_count": 40,
      "outputs": []
    },
    {
      "cell_type": "code",
      "source": [
        "# epoch 단위로 evaluate(정확도, 손실함수 출력)\n",
        "def evaluate_epoch(X_batch_list, y_batch_list, model, epoch):\n",
        "    accuracy_list = []\n",
        "    cross_entropy_list = []\n",
        "    for i in range(len(X_batch_list)):\n",
        "        # 리스트 중 미니 배치 하나 선택\n",
        "        X_batch = X_batch_list[i]\n",
        "        y_batch = y_batch_list[i]\n",
        "        accuracy, cross_entropy = evaluate_mini_batch(X_batch, y_batch, model, i) # 미니 배치 단위로 evaluate\n",
        "        accuracy_list.append(accuracy)\n",
        "        cross_entropy_list.append(cross_entropy)\n",
        "\n",
        "    total_accuracy = np.mean(accuracy_list) # 정확도 평균\n",
        "    total_cross_entropy = np.mean(cross_entropy_list) # 손실함수 평균\n",
        "    print(f\"[Epoch {epoch+1}] Loss = {round(total_cross_entropy, 3)}, Accuracy = {round(total_accuracy, 3)}\\n\")"
      ],
      "metadata": {
        "id": "JtqJKtRpCQUM"
      },
      "execution_count": 41,
      "outputs": []
    },
    {
      "cell_type": "markdown",
      "source": [
        "# **Main**"
      ],
      "metadata": {
        "id": "2P2zb8-uu47c"
      }
    },
    {
      "cell_type": "code",
      "source": [
        "def main():\n",
        "\n",
        "    # csv 데이터 불러오기\n",
        "    df = data_load()\n",
        "\n",
        "    # train, test 데이터로 나누기\n",
        "    X_train, y_train, X_test, y_test = train_test_split(df)\n",
        "    # 미니배치(하나에 4개 데이터)로 나누기\n",
        "    X_batch_list, y_batch_list, test_X_batch_list, test_y_batch_list = train_test_mini_batch(X_train, y_train, X_test, y_test, 4)\n",
        "\n",
        "    # 모델 만들기(입력층, 은닉층, 출력층)\n",
        "    model = Sequential([Input(8), Dense(8), Dense(1, activation='sigmoid')])\n",
        "\n",
        "    # 모델 실행 및 정확도, 손실함수 측정\n",
        "    print(\"<Train data>\")\n",
        "    # for i in range(10):\n",
        "    #     evaluate_epoch(X_batch_list, y_batch_list, model, i)\n",
        "    evaluate_epoch(X_batch_list, y_batch_list, model, 0)    # epoch 1\n",
        "    print(\"<Test data>\")\n",
        "    evaluate_epoch(test_X_batch_list, test_y_batch_list, model, 0)\n",
        "\n",
        "main()"
      ],
      "metadata": {
        "id": "Ms8-SYlgCbzz",
        "outputId": "01ff8d6f-7f56-4ab5-bf28-01146c7ce562",
        "colab": {
          "base_uri": "https://localhost:8080/"
        }
      },
      "execution_count": 42,
      "outputs": [
        {
          "output_type": "stream",
          "name": "stdout",
          "text": [
            "<Train data>\n",
            "[Mini-Batch 1] Loss = 0.687, Accuracy = 0.75\n",
            "[Mini-Batch 2] Loss = 0.65, Accuracy = 1.0\n",
            "[Mini-Batch 3] Loss = 0.699, Accuracy = 0.5\n",
            "[Mini-Batch 4] Loss = 0.648, Accuracy = 0.75\n",
            "[Epoch 1] Loss = 0.671, Accuracy = 0.75\n",
            "\n",
            "<Test data>\n",
            "[Mini-Batch 1] Loss = 0.698, Accuracy = 0.5\n",
            "[Epoch 1] Loss = 0.698, Accuracy = 0.5\n",
            "\n"
          ]
        }
      ]
    }
  ]
}